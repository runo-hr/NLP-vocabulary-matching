{
 "cells": [
  {
   "cell_type": "code",
   "execution_count": 1,
   "id": "6936316f-a49c-4bbf-9228-d2055bd71809",
   "metadata": {},
   "outputs": [
    {
     "name": "stderr",
     "output_type": "stream",
     "text": [
      "[nltk_data] Downloading package wordnet to\n",
      "[nltk_data]     C:\\Users\\HR\\AppData\\Roaming\\nltk_data...\n",
      "[nltk_data]   Package wordnet is already up-to-date!\n"
     ]
    }
   ],
   "source": [
    "import nltk\n",
    "#nltk.download('punkt')\n",
    "nltk.download('wordnet')\n",
    "#nltk.download('omw-1.4')  \n",
    "from nltk.stem import WordNetLemmatizer\n",
    "\n",
    "lemmatizer = WordNetLemmatizer()\n",
    "from nltk.stem.lancaster import LancasterStemmer\n",
    "stemmer=LancasterStemmer()"
   ]
  },
  {
   "cell_type": "code",
   "execution_count": 2,
   "id": "6a1b9b6e-c419-4f4d-9210-75ff366ff7dc",
   "metadata": {},
   "outputs": [],
   "source": [
    "from nltk.corpus import wordnet"
   ]
  },
  {
   "cell_type": "code",
   "execution_count": 3,
   "id": "f9c71ce2-f93a-46ba-afb6-0ba11e0c490b",
   "metadata": {},
   "outputs": [],
   "source": [
    "import pandas as pd"
   ]
  },
  {
   "cell_type": "code",
   "execution_count": 4,
   "id": "414cd597-06e3-4bf4-8df4-656e1c58c7c1",
   "metadata": {},
   "outputs": [],
   "source": [
    "import spacy\n",
    "from spacy.matcher import Matcher"
   ]
  },
  {
   "cell_type": "code",
   "execution_count": 5,
   "id": "18fce23a-4afa-4c59-9e5d-df56c2fe6749",
   "metadata": {},
   "outputs": [],
   "source": [
    "from thefuzz import fuzz, process"
   ]
  },
  {
   "cell_type": "code",
   "execution_count": 6,
   "id": "8e850e22-eae8-4c68-8caa-36c1a3fbdede",
   "metadata": {},
   "outputs": [],
   "source": [
    "nlp = spacy.load('en_core_web_sm')"
   ]
  },
  {
   "cell_type": "code",
   "execution_count": 7,
   "id": "e065783f-b4ea-4f34-a451-3c5ea2b41b20",
   "metadata": {},
   "outputs": [],
   "source": [
    "#df1 = pd.read_csv('source_1.csv')\n",
    "#df1"
   ]
  },
  {
   "cell_type": "code",
   "execution_count": 8,
   "id": "b129f64f-9ef2-44a2-ad00-a2f654e64cf6",
   "metadata": {},
   "outputs": [],
   "source": [
    "#df2 = pd.read_csv('source_2.csv')\n",
    "#df2"
   ]
  },
  {
   "cell_type": "code",
   "execution_count": 9,
   "id": "be433f60-be6a-4753-99e0-df895032b1e4",
   "metadata": {},
   "outputs": [],
   "source": [
    "matcher = Matcher(nlp.vocab)\n"
   ]
  },
  {
   "cell_type": "code",
   "execution_count": 10,
   "id": "08f34807-7866-42d0-bb85-5579aefd7fcd",
   "metadata": {},
   "outputs": [
    {
     "data": {
      "text/plain": [
       "spacy.vocab.Vocab"
      ]
     },
     "execution_count": 10,
     "metadata": {},
     "output_type": "execute_result"
    }
   ],
   "source": [
    "type(nlp.vocab)"
   ]
  },
  {
   "cell_type": "code",
   "execution_count": 11,
   "id": "cba88036-157b-4172-95a0-e6371625c6eb",
   "metadata": {},
   "outputs": [],
   "source": [
    "p1 = [{'LOWER': 'quickbrownfox'}]\n",
    "p2 = [{'LOWER': 'quick'}, {'IS_PUNCT': True}, {'LOWER': 'brown'}, {'IS_PUNCT': True}, {'LOWER': 'fox'}]\n",
    "p3 = [{'LOWER': 'quick'}, {'LOWER': 'brown'}, {'LOWER': 'fox'}]\n",
    "p4 =  [{'LOWER': 'quick'}, {'LOWER': 'brownfox'}]\n",
    "patterns = [p1, p2, p3, p4]"
   ]
  },
  {
   "cell_type": "code",
   "execution_count": 12,
   "id": "0ff951b5-50d1-4437-9c49-8b853ff5c0e5",
   "metadata": {},
   "outputs": [],
   "source": [
    "matcher.add('QBF', patterns)"
   ]
  },
  {
   "cell_type": "code",
   "execution_count": 13,
   "id": "bd4af104-5c86-4d5f-86ae-d8eeed961171",
   "metadata": {},
   "outputs": [
    {
     "data": {
      "text/plain": [
       "spacy.tokens.doc.Doc"
      ]
     },
     "execution_count": 13,
     "metadata": {},
     "output_type": "execute_result"
    }
   ],
   "source": [
    "sentence = nlp(u'The quick-brown-fox jumps over the lazy dog. The quick brown fox eats well. \\\n",
    "               the quickbrownfox is dead. the dog misses the quick brownfox')\n",
    "type(sentence)"
   ]
  },
  {
   "cell_type": "code",
   "execution_count": 14,
   "id": "72774ac4-ec25-4092-ad73-b9db7bb3f538",
   "metadata": {},
   "outputs": [
    {
     "name": "stdout",
     "output_type": "stream",
     "text": [
      "[(12825528024649263697, 1, 6), (12825528024649263697, 13, 16), (12825528024649263697, 21, 22), (12825528024649263697, 29, 31)]\n"
     ]
    }
   ],
   "source": [
    "phrase_matches = matcher(sentence)\n",
    "print(phrase_matches )"
   ]
  },
  {
   "cell_type": "code",
   "execution_count": 15,
   "id": "88276102-7ef0-468a-a9e2-fd971eb1580a",
   "metadata": {},
   "outputs": [
    {
     "name": "stdout",
     "output_type": "stream",
     "text": [
      "12825528024649263697 QBF 1 6 quick-brown-fox\n",
      "12825528024649263697 QBF 13 16 quick brown fox\n",
      "12825528024649263697 QBF 21 22 quickbrownfox\n",
      "12825528024649263697 QBF 29 31 quick brownfox\n"
     ]
    }
   ],
   "source": [
    "for match_id, start, end in phrase_matches:\n",
    "    string_id = nlp.vocab.strings[match_id]  \n",
    "    span = sentence[start:end]                   \n",
    "    print(match_id, string_id, start, end, span.text)"
   ]
  },
  {
   "cell_type": "code",
   "execution_count": 16,
   "id": "bba9a12b-df91-424d-b0b2-06bf287841bb",
   "metadata": {},
   "outputs": [],
   "source": [
    "import bs4 as bs  \n",
    "import urllib.request  \n",
    "import re  \n",
    "#import nltk\n",
    "\n",
    "scrapped_data = urllib.request.urlopen('https://en.wikipedia.org/wiki/Artificial_intelligence')  \n",
    "article = scrapped_data .read()\n",
    "\n",
    "parsed_article = bs.BeautifulSoup(article,'lxml')\n",
    "\n",
    "paragraphs = parsed_article.find_all('p')\n",
    "\n",
    "article_text = \"\"\n",
    "\n",
    "for p in paragraphs:  \n",
    "    article_text += p.text\n",
    "    \n",
    "    \n",
    "processed_article = article_text.lower()  \n",
    "processed_article = re.sub('[^a-zA-Z]', ' ', processed_article )  \n",
    "processed_article = re.sub(r'\\s+', ' ', processed_article)"
   ]
  },
  {
   "cell_type": "code",
   "execution_count": 17,
   "id": "5423558d-11b3-4ab9-82c4-defcc5f956f3",
   "metadata": {},
   "outputs": [
    {
     "data": {
      "text/plain": [
       "' artificial intelligence ai is intelligence demonstrated by machines as opposed to the natural intel'"
      ]
     },
     "execution_count": 17,
     "metadata": {},
     "output_type": "execute_result"
    }
   ],
   "source": [
    "processed_article[0:100]"
   ]
  },
  {
   "cell_type": "code",
   "execution_count": 18,
   "id": "ad129289-933f-4373-b1a8-3fef94a39b7d",
   "metadata": {},
   "outputs": [
    {
     "data": {
      "text/plain": [
       "<spacy.matcher.phrasematcher.PhraseMatcher at 0x1f9478c7900>"
      ]
     },
     "execution_count": 18,
     "metadata": {},
     "output_type": "execute_result"
    }
   ],
   "source": [
    "import spacy\n",
    "nlp = spacy.load('en_core_web_sm')\n",
    "\n",
    "from spacy.matcher import PhraseMatcher\n",
    "phrase_matcher = PhraseMatcher(nlp.vocab)\n",
    "phrase_matcher"
   ]
  },
  {
   "cell_type": "code",
   "execution_count": 19,
   "id": "b2970e51-56cf-43f0-a1a9-36b27c274f12",
   "metadata": {},
   "outputs": [],
   "source": [
    "#phrases = ['machin', 'robots', 'intelligent agents']\n",
    "phrases = ['machines']\n",
    "\n",
    "patterns = [nlp(text) for text in phrases]\n",
    "phrase_matcher.add('AI', None, *patterns)"
   ]
  },
  {
   "cell_type": "code",
   "execution_count": 20,
   "id": "d66504b1-e440-4e66-8b95-4d9110d48e91",
   "metadata": {},
   "outputs": [
    {
     "name": "stdout",
     "output_type": "stream",
     "text": [
      " artificial intelligence ai is intelligence demonstrated by machines as opposed to the natural intel\n"
     ]
    },
    {
     "data": {
      "text/plain": [
       "[(5530044837203964789, 8, 9)]"
      ]
     },
     "execution_count": 20,
     "metadata": {},
     "output_type": "execute_result"
    }
   ],
   "source": [
    "sentence = nlp (processed_article[0:100])\n",
    "\n",
    "matched_phrases = phrase_matcher(sentence)\n",
    "print(sentence)\n",
    "matched_phrases"
   ]
  },
  {
   "cell_type": "code",
   "execution_count": 21,
   "id": "4512bbea-5b29-45cd-91ce-333157293719",
   "metadata": {},
   "outputs": [
    {
     "name": "stdout",
     "output_type": "stream",
     "text": [
      "5530044837203964789 AI 8 9 machines\n"
     ]
    }
   ],
   "source": [
    "for match_id, start, end in matched_phrases:\n",
    "    string_id = nlp.vocab.strings[match_id]  \n",
    "    span = sentence[start:end]                   \n",
    "    print(match_id, string_id, start, end, span.text)"
   ]
  },
  {
   "cell_type": "code",
   "execution_count": 22,
   "id": "7a2b6a90-87c0-44b5-96e3-dbed73d44a5a",
   "metadata": {},
   "outputs": [],
   "source": [
    "pd.set_option('display.max_rows', None)"
   ]
  },
  {
   "cell_type": "code",
   "execution_count": 23,
   "id": "33e7d22f-ab5b-4c13-b8a3-973d3184c0fe",
   "metadata": {},
   "outputs": [
    {
     "data": {
      "text/plain": [
       "<spacy.matcher.phrasematcher.PhraseMatcher at 0x1f94c4bedd0>"
      ]
     },
     "execution_count": 23,
     "metadata": {},
     "output_type": "execute_result"
    }
   ],
   "source": [
    "import spacy\n",
    "nlp = spacy.load('en_core_web_sm')\n",
    "\n",
    "from spacy.matcher import PhraseMatcher\n",
    "phrase_matcher = PhraseMatcher(nlp.vocab)\n",
    "phrase_matcher"
   ]
  },
  {
   "cell_type": "code",
   "execution_count": 24,
   "id": "10854035-ca7c-4718-8222-8a3f17a3bb7b",
   "metadata": {},
   "outputs": [],
   "source": [
    "phrases = ['millets']\n",
    "\n",
    "patterns = [nlp(text) for text in phrases]\n",
    "phrase_matcher.add('agriculture', None, *patterns)"
   ]
  },
  {
   "cell_type": "code",
   "execution_count": 25,
   "id": "03ede8d9-acc3-4eab-9044-0bcaa45d0928",
   "metadata": {},
   "outputs": [
    {
     "name": "stdout",
     "output_type": "stream",
     "text": [
      "Cereals millet\n"
     ]
    },
    {
     "data": {
      "text/plain": [
       "[]"
      ]
     },
     "execution_count": 25,
     "metadata": {},
     "output_type": "execute_result"
    }
   ],
   "source": [
    "sentence = nlp ('Cereals millet')\n",
    "\n",
    "matched_phrases = phrase_matcher(sentence)\n",
    "print(sentence)\n",
    "matched_phrases"
   ]
  },
  {
   "cell_type": "code",
   "execution_count": 26,
   "id": "9234f5e3-6545-4bb6-9c3f-689ca6dce166",
   "metadata": {},
   "outputs": [
    {
     "ename": "NameError",
     "evalue": "name 'df' is not defined",
     "output_type": "error",
     "traceback": [
      "\u001b[1;31m---------------------------------------------------------------------------\u001b[0m",
      "\u001b[1;31mNameError\u001b[0m                                 Traceback (most recent call last)",
      "Input \u001b[1;32mIn [26]\u001b[0m, in \u001b[0;36m<cell line: 2>\u001b[1;34m()\u001b[0m\n\u001b[0;32m      1\u001b[0m items2 \u001b[38;5;241m=\u001b[39m {}\n\u001b[1;32m----> 2\u001b[0m \u001b[38;5;28;01mfor\u001b[39;00m entry \u001b[38;5;129;01min\u001b[39;00m \u001b[43mdf\u001b[49m\u001b[38;5;241m.\u001b[39msource_2\u001b[38;5;241m.\u001b[39mto_list():\n\u001b[0;32m      3\u001b[0m     items \u001b[38;5;241m=\u001b[39m clean_sentence(entry)\n\u001b[0;32m      4\u001b[0m     \u001b[38;5;28mprint\u001b[39m(items)\n",
      "\u001b[1;31mNameError\u001b[0m: name 'df' is not defined"
     ]
    }
   ],
   "source": [
    "items2 = {}\n",
    "for entry in df.source_2.to_list():\n",
    "    items = clean_sentence(entry)\n",
    "    print(items)"
   ]
  },
  {
   "cell_type": "code",
   "execution_count": null,
   "id": "be132bb4-9b16-46d8-b1c8-3ef2e144c34f",
   "metadata": {},
   "outputs": [],
   "source": [
    "def clean_sentence(sentence):\n",
    "    sentence_words = nltk.word_tokenize(sentence)\n",
    "    #sentence_words = [stemmer.stem(word.lower()) for word in sentence_words]\n",
    "    sentence_words = [lemmatizer.lemmatize(word.lower()) for word in sentence_words]\n",
    "    return sentence_words\n",
    "clean_sentence('cornflour')"
   ]
  },
  {
   "cell_type": "code",
   "execution_count": null,
   "id": "966a1350-15b8-4140-b3d9-85b0adec8c8c",
   "metadata": {},
   "outputs": [],
   "source": [
    "df = pd.read_csv('matched_data.csv')\n",
    "df"
   ]
  },
  {
   "cell_type": "markdown",
   "id": "3cca68e1-5b13-4562-862e-4d9b6c8b0a5c",
   "metadata": {},
   "source": [
    "# fuzzy "
   ]
  },
  {
   "cell_type": "code",
   "execution_count": null,
   "id": "1df1b1f5-1b24-4359-a447-538fc2f034c9",
   "metadata": {},
   "outputs": [],
   "source": [
    "s1 = 'hello world '\n",
    "s2 = 'hello world this is'"
   ]
  },
  {
   "cell_type": "code",
   "execution_count": null,
   "id": "8cdafee8-cf24-4c2f-9e8e-4139a2f52b52",
   "metadata": {},
   "outputs": [],
   "source": [
    "print(s1 == s2)\n",
    "print(s1 is s2)"
   ]
  },
  {
   "cell_type": "code",
   "execution_count": null,
   "id": "f3328507-f1f1-40f6-9dd9-7b25d0b34554",
   "metadata": {},
   "outputs": [],
   "source": [
    "fuzz.ratio(s1, s2)"
   ]
  },
  {
   "cell_type": "code",
   "execution_count": null,
   "id": "d8862978-4297-4fe0-86cd-73e8b0c6ed09",
   "metadata": {},
   "outputs": [],
   "source": [
    "fuzz.partial_ratio(s1, s2)"
   ]
  },
  {
   "cell_type": "code",
   "execution_count": null,
   "id": "de7a16c3-0eb4-4219-8fb8-b3760702f47a",
   "metadata": {},
   "outputs": [],
   "source": [
    "s1 = 'hello world is what i want to tell you '\n",
    "s2 = 'what i want to tell you is hello world'"
   ]
  },
  {
   "cell_type": "code",
   "execution_count": null,
   "id": "bec2fc46-47b9-4ca3-86f7-db495a4d5be4",
   "metadata": {},
   "outputs": [],
   "source": [
    "fuzz.ratio(s1, s2)"
   ]
  },
  {
   "cell_type": "code",
   "execution_count": null,
   "id": "f2c28ade-ce37-4ba5-a1b2-d4939c200ae0",
   "metadata": {},
   "outputs": [],
   "source": [
    "fuzz.partial_ratio(s1, s2)"
   ]
  },
  {
   "cell_type": "code",
   "execution_count": null,
   "id": "0fcb2180-aab5-41aa-b1c4-c287017713eb",
   "metadata": {},
   "outputs": [],
   "source": [
    "fuzz.token_sort_ratio(s1, s2)"
   ]
  },
  {
   "cell_type": "code",
   "execution_count": null,
   "id": "bba4eac2-f751-4550-b014-b8eb25f670c8",
   "metadata": {},
   "outputs": [],
   "source": [
    "s1 = 'hello world'\n",
    "s2 = 'hello  hello world world world'"
   ]
  },
  {
   "cell_type": "code",
   "execution_count": null,
   "id": "e54b30c5-1888-432d-b59b-7415eb39b869",
   "metadata": {},
   "outputs": [],
   "source": [
    "fuzz.ratio(s1, s2)"
   ]
  },
  {
   "cell_type": "code",
   "execution_count": null,
   "id": "06d92a5f-852b-4162-bda7-e5bd9c94fc2b",
   "metadata": {},
   "outputs": [],
   "source": [
    "fuzz.partial_ratio(s1, s2)"
   ]
  },
  {
   "cell_type": "code",
   "execution_count": null,
   "id": "11b4d77d-ebfe-4da0-9cd9-bf10b48af681",
   "metadata": {},
   "outputs": [],
   "source": [
    "'Sesamum_indicum'\n",
    "fuzz.partial_ratio('beet pulp' , 'Pulp, bagasse and other waste of sugar manufacture')"
   ]
  },
  {
   "cell_type": "code",
   "execution_count": null,
   "id": "0b4bfb08-8d7e-4161-a5c8-bb1ad0ab9a4a",
   "metadata": {},
   "outputs": [],
   "source": [
    "fuzz.token_set_ratio(' pulp' , 'Pulp, bagasse and other waste of sugar manufacture')"
   ]
  },
  {
   "cell_type": "code",
   "execution_count": null,
   "id": "6460b2c3-b7bc-4e49-80f9-6b6d56a69d23",
   "metadata": {},
   "outputs": [],
   "source": [
    "fuzz.token_set_ratio(s1, s2)"
   ]
  },
  {
   "cell_type": "code",
   "execution_count": null,
   "id": "86b4b27d-ec44-4ce7-969c-e2f84d95e0ae",
   "metadata": {},
   "outputs": [],
   "source": [
    "import string \n",
    "    \n",
    "# An input string.\n",
    "Sentence = \"Hey, Geeks !, How are you?\"\n",
    "  \n",
    "for i in Sentence:\n",
    "      \n",
    "    # checking whether the char is punctuation.\n",
    "    if i in string.punctuation:\n",
    "          \n",
    "        # Printing the punctuation values \n",
    "        print(\"Punctuation: \" + i)\n",
    "   "
   ]
  },
  {
   "cell_type": "code",
   "execution_count": null,
   "id": "c56812f7-f13e-4219-b116-bd948025baef",
   "metadata": {},
   "outputs": [],
   "source": [
    "string.punctuation"
   ]
  },
  {
   "cell_type": "code",
   "execution_count": null,
   "id": "ad2385d3-66b1-496a-879c-e137e0ca579d",
   "metadata": {},
   "outputs": [],
   "source": [
    "'hello_world'.strip(string.punctuation)"
   ]
  },
  {
   "cell_type": "code",
   "execution_count": null,
   "id": "ffd50849-7417-46aa-8017-7321ad1b0bd1",
   "metadata": {},
   "outputs": [],
   "source": [
    "' '.join(word.strip(string.punctuation) for word in \"Hello, world. I'm a boy, you're a girl.\".split())"
   ]
  },
  {
   "cell_type": "code",
   "execution_count": null,
   "id": "e9c3b5a8-500c-4d37-bf83-fd38e563fd4b",
   "metadata": {},
   "outputs": [],
   "source": [
    "' '.join(word.strip(string.punctuation) for word in \"Hello_world\".split())"
   ]
  },
  {
   "cell_type": "code",
   "execution_count": null,
   "id": "497b222a-b4cb-452a-aa98-cdbb4594e288",
   "metadata": {},
   "outputs": [],
   "source": [
    "' '.join('hello_world'.split('_'))"
   ]
  },
  {
   "cell_type": "code",
   "execution_count": null,
   "id": "eda7de25-5e37-4ab4-a9cd-d8a50dc86c4c",
   "metadata": {},
   "outputs": [],
   "source": [
    "'helloworld'.split('_')"
   ]
  },
  {
   "cell_type": "code",
   "execution_count": null,
   "id": "efcc7c8d-ec44-4f45-a18f-9f620028b700",
   "metadata": {},
   "outputs": [],
   "source": [
    "ls = ['hello', 'world', 'boon']\n",
    "st = 'good_morning'\n",
    "ls.extend(st.split('_'))\n",
    "ls"
   ]
  },
  {
   "cell_type": "code",
   "execution_count": null,
   "id": "9b422ba9-c3d7-44f4-8dd6-d472790209ff",
   "metadata": {},
   "outputs": [],
   "source": [
    "'hello world'.strip()"
   ]
  },
  {
   "cell_type": "code",
   "execution_count": null,
   "id": "7a83cd64-3815-408e-89f5-7d2d7717678d",
   "metadata": {},
   "outputs": [],
   "source": [
    "' ' in 'hello world' "
   ]
  },
  {
   "cell_type": "code",
   "execution_count": null,
   "id": "ea96f60a-89a9-4728-9ed0-bc457f26711f",
   "metadata": {},
   "outputs": [],
   "source": [
    "\n"
   ]
  },
  {
   "cell_type": "code",
   "execution_count": null,
   "id": "1ee3d9b6-1cc2-4f92-944b-ec594ade052c",
   "metadata": {},
   "outputs": [],
   "source": [
    "d = dict(a=3, b=6)\n",
    "d"
   ]
  },
  {
   "cell_type": "code",
   "execution_count": null,
   "id": "4aee4e33-2465-4e9f-8d4d-04382a401ef7",
   "metadata": {},
   "outputs": [],
   "source": [
    "df_s1 = pd.read_csv('source_1.csv')\n",
    "df_s2 = pd.read_csv('source_2.csv')"
   ]
  },
  {
   "cell_type": "markdown",
   "id": "b7625bf4-5c49-4038-b8e3-40604460384b",
   "metadata": {},
   "source": [
    "# missing"
   ]
  },
  {
   "cell_type": "code",
   "execution_count": 46,
   "id": "53507961-06c6-43be-a2ce-8e387db373d5",
   "metadata": {
    "tags": []
   },
   "outputs": [
    {
     "data": {
      "text/html": [
       "<div>\n",
       "<style scoped>\n",
       "    .dataframe tbody tr th:only-of-type {\n",
       "        vertical-align: middle;\n",
       "    }\n",
       "\n",
       "    .dataframe tbody tr th {\n",
       "        vertical-align: top;\n",
       "    }\n",
       "\n",
       "    .dataframe thead th {\n",
       "        text-align: right;\n",
       "    }\n",
       "</style>\n",
       "<table border=\"1\" class=\"dataframe\">\n",
       "  <thead>\n",
       "    <tr style=\"text-align: right;\">\n",
       "      <th></th>\n",
       "      <th>source_1</th>\n",
       "      <th>source_2</th>\n",
       "    </tr>\n",
       "  </thead>\n",
       "  <tbody>\n",
       "    <tr>\n",
       "      <th>0</th>\n",
       "      <td>Cereals, barley</td>\n",
       "      <td>barley</td>\n",
       "    </tr>\n",
       "    <tr>\n",
       "      <th>1</th>\n",
       "      <td>Other fresh or chilled potatoes</td>\n",
       "      <td>potatoes</td>\n",
       "    </tr>\n",
       "    <tr>\n",
       "      <th>2</th>\n",
       "      <td>Fruit, edible; cherries, fresh</td>\n",
       "      <td>cherries</td>\n",
       "    </tr>\n",
       "    <tr>\n",
       "      <th>3</th>\n",
       "      <td>Bran, sharps and other residues, of maize</td>\n",
       "      <td>maize bran</td>\n",
       "    </tr>\n",
       "    <tr>\n",
       "      <th>4</th>\n",
       "      <td>Cereals, millet</td>\n",
       "      <td>millets</td>\n",
       "    </tr>\n",
       "  </tbody>\n",
       "</table>\n",
       "</div>"
      ],
      "text/plain": [
       "                                    source_1    source_2\n",
       "0                            Cereals, barley      barley\n",
       "1            Other fresh or chilled potatoes    potatoes\n",
       "2             Fruit, edible; cherries, fresh    cherries\n",
       "3  Bran, sharps and other residues, of maize  maize bran\n",
       "4                            Cereals, millet     millets"
      ]
     },
     "execution_count": 46,
     "metadata": {},
     "output_type": "execute_result"
    }
   ],
   "source": [
    "df_matched = pd.read_csv('matched_data.csv')\n",
    "df_matched.head()"
   ]
  },
  {
   "cell_type": "code",
   "execution_count": 47,
   "id": "e5fa3417-517c-4fce-9824-441f2ed36418",
   "metadata": {},
   "outputs": [
    {
     "data": {
      "text/html": [
       "<div>\n",
       "<style scoped>\n",
       "    .dataframe tbody tr th:only-of-type {\n",
       "        vertical-align: middle;\n",
       "    }\n",
       "\n",
       "    .dataframe tbody tr th {\n",
       "        vertical-align: top;\n",
       "    }\n",
       "\n",
       "    .dataframe thead th {\n",
       "        text-align: right;\n",
       "    }\n",
       "</style>\n",
       "<table border=\"1\" class=\"dataframe\">\n",
       "  <thead>\n",
       "    <tr style=\"text-align: right;\">\n",
       "      <th></th>\n",
       "      <th>Unnamed: 0</th>\n",
       "      <th>s1</th>\n",
       "      <th>s2</th>\n",
       "    </tr>\n",
       "  </thead>\n",
       "  <tbody>\n",
       "    <tr>\n",
       "      <th>0</th>\n",
       "      <td>0</td>\n",
       "      <td>Cereals, barley</td>\n",
       "      <td>barley</td>\n",
       "    </tr>\n",
       "    <tr>\n",
       "      <th>1</th>\n",
       "      <td>1</td>\n",
       "      <td>Other fresh or chilled potatoes</td>\n",
       "      <td>potatoes</td>\n",
       "    </tr>\n",
       "    <tr>\n",
       "      <th>2</th>\n",
       "      <td>2</td>\n",
       "      <td>Fruit, edible; cherries, fresh</td>\n",
       "      <td>cherries</td>\n",
       "    </tr>\n",
       "    <tr>\n",
       "      <th>3</th>\n",
       "      <td>3</td>\n",
       "      <td>Bran, sharps and other residues, of maize</td>\n",
       "      <td>maize bran</td>\n",
       "    </tr>\n",
       "    <tr>\n",
       "      <th>4</th>\n",
       "      <td>4</td>\n",
       "      <td>Cereals, millet</td>\n",
       "      <td>millets</td>\n",
       "    </tr>\n",
       "  </tbody>\n",
       "</table>\n",
       "</div>"
      ],
      "text/plain": [
       "   Unnamed: 0                                         s1          s2\n",
       "0           0                            Cereals, barley      barley\n",
       "1           1            Other fresh or chilled potatoes    potatoes\n",
       "2           2             Fruit, edible; cherries, fresh    cherries\n",
       "3           3  Bran, sharps and other residues, of maize  maize bran\n",
       "4           4                            Cereals, millet     millets"
      ]
     },
     "execution_count": 47,
     "metadata": {},
     "output_type": "execute_result"
    }
   ],
   "source": [
    "df_try = pd.read_csv('matched_try.csv')\n",
    "df_try.head()"
   ]
  },
  {
   "cell_type": "code",
   "execution_count": 48,
   "id": "f8097ac3-8c0f-4301-8d43-d26b84b223e4",
   "metadata": {},
   "outputs": [
    {
     "data": {
      "text/plain": [
       "(99, 80, 80)"
      ]
     },
     "execution_count": 48,
     "metadata": {},
     "output_type": "execute_result"
    }
   ],
   "source": [
    "matched_s2 = df_matched.source_2.to_list()\n",
    "matched_s1 = df_matched.source_1.to_list()\n",
    "\n",
    "try_s2 = df_try.s2.to_list()\n",
    "try_s1 = df_try.s1.to_list()\n",
    "\n",
    "len(matched_s2), len(try_s2), len(try_s1)"
   ]
  },
  {
   "cell_type": "code",
   "execution_count": 49,
   "id": "69886053-0869-4d9a-b951-4421716c22b0",
   "metadata": {},
   "outputs": [],
   "source": [
    "missing_s2 = [item for item in matched_s2 if item not in try_s2]\n",
    "missing_s1 = [item for item in matched_s1 if item not in try_s1]"
   ]
  },
  {
   "cell_type": "code",
   "execution_count": 50,
   "id": "390cd31c-1c33-4422-af14-c7a0d8684c22",
   "metadata": {},
   "outputs": [
    {
     "data": {
      "text/plain": [
       "(19, 19)"
      ]
     },
     "execution_count": 50,
     "metadata": {},
     "output_type": "execute_result"
    }
   ],
   "source": [
    "len(missing_s2), len(missing_s1)"
   ]
  },
  {
   "cell_type": "code",
   "execution_count": 56,
   "id": "1e729d2d-13f8-41ff-982e-8b7d8ad39110",
   "metadata": {},
   "outputs": [
    {
     "data": {
      "text/plain": [
       "['plow',\n",
       " 'plough',\n",
       " 'plow',\n",
       " 'plough',\n",
       " 'turn',\n",
       " 'cover',\n",
       " 'treat',\n",
       " 'handle',\n",
       " 'plow',\n",
       " 'deal',\n",
       " 'address',\n",
       " 'plow',\n",
       " 'plough']"
      ]
     },
     "execution_count": 56,
     "metadata": {},
     "output_type": "execute_result"
    }
   ],
   "source": [
    "synonyms = []\n",
    "for syn in wordnet.synsets('plows'):\n",
    "    for lemma in syn.lemmas():\n",
    "        synonyms.append(lemma.name())\n",
    "synonyms"
   ]
  },
  {
   "cell_type": "code",
   "execution_count": 51,
   "id": "dec30f7c-b606-4eb2-a122-1bf9c216a1aa",
   "metadata": {},
   "outputs": [],
   "source": [
    "def get_ratios(i,j):\n",
    "    print(f\"'{i}' vs '{j}'\")\n",
    "    ratio = fuzz.ratio(i, j)\n",
    "    print(f\"Ratio : {ratio}\")\n",
    "\n",
    "    partial_ratio = fuzz.partial_ratio(i, j)\n",
    "    print(f\"Partial Ratio : {partial_ratio}\")\n",
    "\n",
    "    token_sort_ratio = fuzz.token_sort_ratio(i, j)\n",
    "    print(f\"Token sort Ratio : {token_sort_ratio}\")\n",
    "\n",
    "    token_set_ratio = fuzz.token_set_ratio(i, j)\n",
    "    print(f\"Token set Ratio : {token_set_ratio}\")\n",
    "    print()"
   ]
  },
  {
   "cell_type": "code",
   "execution_count": 52,
   "id": "56ebbadf-8868-4ffc-a9af-e6acacf8ed8d",
   "metadata": {},
   "outputs": [
    {
     "name": "stdout",
     "output_type": "stream",
     "text": [
      "'beet pulp' vs 'Pulp, bagasse and other waste of sugar manufacture'\n",
      "Ratio : 20\n",
      "Partial Ratio : 33\n",
      "Token sort Ratio : 31\n",
      "Token set Ratio : 62\n",
      "\n",
      "'cornflour' vs 'Maize (corn) flour'\n",
      "Ratio : 67\n",
      "Partial Ratio : 78\n",
      "Token sort Ratio : 72\n",
      "Token set Ratio : 72\n",
      "\n",
      "'equus asinus' vs 'Asses, live'\n",
      "Ratio : 35\n",
      "Partial Ratio : 36\n",
      "Token sort Ratio : 45\n",
      "Token set Ratio : 45\n",
      "\n",
      "'crab apples' vs 'Fresh apples'\n",
      "Ratio : 70\n",
      "Partial Ratio : 73\n",
      "Token sort Ratio : 70\n",
      "Token set Ratio : 71\n",
      "\n",
      "'beeswax' vs 'Waxes, other than vegetable, n.e.s. in heading no. 1521; whether or not refined or coloured'\n",
      "Ratio : 10\n",
      "Partial Ratio : 29\n",
      "Token sort Ratio : 13\n",
      "Token set Ratio : 13\n",
      "\n",
      "'yuca' vs 'Vegetable roots and tubers; manioc (cassava), with high starch or inulin content, whether or not sliced or in the form of pellets, fresh or dried'\n",
      "Ratio : 4\n",
      "Partial Ratio : 50\n",
      "Token sort Ratio : 4\n",
      "Token set Ratio : 4\n",
      "\n",
      "'weaning foods' vs 'Food preparations; of flour, meal, starch, malt extract or milk products, for infant use, put up for retail sale'\n",
      "Ratio : 16\n",
      "Partial Ratio : 38\n",
      "Token sort Ratio : 15\n",
      "Token set Ratio : 16\n",
      "\n",
      "'tapioca' vs 'Manioc (cassava) starch'\n",
      "Ratio : 33\n",
      "Partial Ratio : 57\n",
      "Token sort Ratio : 36\n",
      "Token set Ratio : 36\n",
      "\n",
      "'horses' vs 'Live asses, mules and hinnies'\n",
      "Ratio : 17\n",
      "Partial Ratio : 33\n",
      "Token sort Ratio : 24\n",
      "Token set Ratio : 24\n",
      "\n",
      "'rabbit meat' vs 'Fres/chil/froz oth.meat/edib.meat offal of rabib./hares'\n",
      "Ratio : 21\n",
      "Partial Ratio : 45\n",
      "Token sort Ratio : 28\n",
      "Token set Ratio : 53\n",
      "\n",
      "'raisins' vs 'Bran and other residues, of rice'\n",
      "Ratio : 26\n",
      "Partial Ratio : 43\n",
      "Token sort Ratio : 26\n",
      "Token set Ratio : 26\n",
      "\n",
      "'cocoa butter' vs 'Dry grapes'\n",
      "Ratio : 18\n",
      "Partial Ratio : 20\n",
      "Token sort Ratio : 27\n",
      "Token set Ratio : 27\n",
      "\n",
      "'tamari' vs 'Sauces, soya'\n",
      "Ratio : 22\n",
      "Partial Ratio : 17\n",
      "Token sort Ratio : 24\n",
      "Token set Ratio : 24\n",
      "\n",
      "'pawpaw (carica papaya)' vs 'Fresh papaws (papayas)'\n",
      "Ratio : 64\n",
      "Partial Ratio : 64\n",
      "Token sort Ratio : 55\n",
      "Token set Ratio : 55\n",
      "\n",
      "'cabbages' vs 'Fresh/chilled lettuce'\n",
      "Ratio : 14\n",
      "Partial Ratio : 25\n",
      "Token sort Ratio : 21\n",
      "Token set Ratio : 21\n",
      "\n",
      "'dromedary meat' vs 'Meat and edible meat offal; of camels and other camelids (Camelidae), fresh, chilled or frozen'\n",
      "Ratio : 19\n",
      "Partial Ratio : 57\n",
      "Token sort Ratio : 21\n",
      "Token set Ratio : 44\n",
      "\n",
      "'carobs' vs 'locust beans, seaweeds and other algae, sugar beet and sugar cane, fresh, chilled, frozen or dried, whether or not ground; fruit stones and kernels and other vegetable products (including unroasted chicory roots of the variety cichorium intybus sativum) of a kind used primarily for human consumption, not elsewhere specified or included; seaweeds and other algae other than fit for human consumption'\n",
      "Ratio : 3\n",
      "Partial Ratio : 33\n",
      "Token sort Ratio : 3\n",
      "Token set Ratio : 4\n",
      "\n",
      "'plows' vs 'Ploughs'\n",
      "Ratio : 50\n",
      "Partial Ratio : 40\n",
      "Token sort Ratio : 67\n",
      "Token set Ratio : 67\n",
      "\n",
      "'disc harrows' vs 'Vegetables, leguminous; pigeon peas (Cajanus cajan), shelled, whether or not skinned or split, dried'\n",
      "Ratio : 16\n",
      "Partial Ratio : 42\n",
      "Token sort Ratio : 15\n",
      "Token set Ratio : 14\n",
      "\n"
     ]
    }
   ],
   "source": [
    "for i in range(len(missing_s2)):\n",
    "    get_ratios(missing_s2[i], missing_s1[i])"
   ]
  },
  {
   "cell_type": "code",
   "execution_count": 57,
   "id": "7f4817cc-03a8-4a13-9efd-46e44cd90186",
   "metadata": {},
   "outputs": [],
   "source": [
    "ls = ['plow',\n",
    " 'plough',\n",
    " 'plow',\n",
    " 'plough',\n",
    " 'turn',\n",
    " 'cover',\n",
    " 'treat',\n",
    " 'handle',\n",
    " 'plow',\n",
    " 'deal',\n",
    " 'address',\n",
    " 'plow',\n",
    " 'plough']"
   ]
  },
  {
   "cell_type": "code",
   "execution_count": 61,
   "id": "3eb641c7-bc00-4a11-b91a-70bb08ccd914",
   "metadata": {},
   "outputs": [
    {
     "data": {
      "text/plain": [
       "'plows plow plough plow plough turn cover treat handle plow deal address plow plough'"
      ]
     },
     "execution_count": 61,
     "metadata": {},
     "output_type": "execute_result"
    }
   ],
   "source": [
    "st ='plows ' + ' '.join(ls)\n",
    "st"
   ]
  },
  {
   "cell_type": "code",
   "execution_count": 70,
   "id": "c2df3956-afd3-4845-8099-e53f1a2259b5",
   "metadata": {},
   "outputs": [
    {
     "name": "stdout",
     "output_type": "stream",
     "text": [
      "'plows plow plough plow plough turn cover treat handle plow deal address plow plough' vs 'Ploughs'\n",
      "Ratio : 13\n",
      "Partial Ratio : 71\n",
      "Token sort Ratio : 16\n",
      "Token set Ratio : 23\n",
      "\n"
     ]
    }
   ],
   "source": [
    "get_ratios(st, 'Ploughs')"
   ]
  },
  {
   "cell_type": "code",
   "execution_count": 71,
   "id": "a682995b-0588-4d8e-9045-fa969e8c2f04",
   "metadata": {},
   "outputs": [
    {
     "data": {
      "text/plain": [
       "86"
      ]
     },
     "execution_count": 71,
     "metadata": {},
     "output_type": "execute_result"
    }
   ],
   "source": [
    "fuzz.partial_token_sort_ratio(st, 'Ploughs')"
   ]
  },
  {
   "cell_type": "code",
   "execution_count": 73,
   "id": "79e74a6d-35fc-49d7-aa07-ea809f6ab8f8",
   "metadata": {},
   "outputs": [
    {
     "data": {
      "text/plain": [
       "100"
      ]
     },
     "execution_count": 73,
     "metadata": {},
     "output_type": "execute_result"
    }
   ],
   "source": [
    "fuzz.partial_token_set_ratio('crab apples', 'fresh apples')"
   ]
  },
  {
   "cell_type": "code",
   "execution_count": 74,
   "id": "c4610f36-c918-4d98-a122-0cd918258ae4",
   "metadata": {},
   "outputs": [
    {
     "name": "stdout",
     "output_type": "stream",
     "text": [
      "'crab apples' vs 'fresh apples'\n",
      "Ratio : 70\n",
      "Partial Ratio : 73\n",
      "Token sort Ratio : 70\n",
      "Token set Ratio : 71\n",
      "\n"
     ]
    }
   ],
   "source": [
    "get_ratios('crab apples', 'fresh apples')"
   ]
  },
  {
   "cell_type": "code",
   "execution_count": 76,
   "id": "c6fc91d9-daa1-485a-8306-8eb375716aeb",
   "metadata": {},
   "outputs": [
    {
     "data": {
      "text/plain": [
       "100"
      ]
     },
     "execution_count": 76,
     "metadata": {},
     "output_type": "execute_result"
    }
   ],
   "source": [
    "fuzz.partial_token_set_ratio('dromedary meat', \n",
    "                             'Meat and edible meat offal; of camels and other camelids (Camelidae), fresh, chilled or frozen')"
   ]
  },
  {
   "cell_type": "code",
   "execution_count": null,
   "id": "8003fc12-a4e5-4e4e-a617-f0b165e18841",
   "metadata": {},
   "outputs": [],
   "source": []
  }
 ],
 "metadata": {
  "kernelspec": {
   "display_name": "Python 3.8 (gro)",
   "language": "python",
   "name": "gro"
  },
  "language_info": {
   "codemirror_mode": {
    "name": "ipython",
    "version": 3
   },
   "file_extension": ".py",
   "mimetype": "text/x-python",
   "name": "python",
   "nbconvert_exporter": "python",
   "pygments_lexer": "ipython3",
   "version": "3.8.13"
  }
 },
 "nbformat": 4,
 "nbformat_minor": 5
}
